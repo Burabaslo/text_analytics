{
 "cells": [
  {
   "cell_type": "code",
   "execution_count": 415,
   "metadata": {},
   "outputs": [],
   "source": [
    "\n",
    "from bs4 import BeautifulSoup\n",
    "\n",
    "import pandas as pd\n",
    "import numpy as np\n",
    "import time\n",
    "\n",
    "from selenium import webdriver\n",
    "from selenium.webdriver.common.keys import Keys\n",
    "from selenium.webdriver.common.by import By\n",
    "from selenium.webdriver.support.ui import WebDriverWait\n",
    "from selenium.webdriver.support import expected_conditions as EC\n",
    "from tqdm.notebook import tqdm"
   ]
  },
  {
   "cell_type": "code",
   "execution_count": 416,
   "metadata": {},
   "outputs": [
    {
     "name": "stderr",
     "output_type": "stream",
     "text": [
      "C:\\Users\\555\\AppData\\Local\\Temp\\ipykernel_10472\\2681080961.py:78: DeprecationWarning: executable_path has been deprecated, please pass in a Service object\n",
      "  driver = webdriver.Chrome(\n",
      "C:\\Users\\555\\AppData\\Local\\Temp\\ipykernel_10472\\2681080961.py:78: DeprecationWarning: use options instead of chrome_options\n",
      "  driver = webdriver.Chrome(\n"
     ]
    }
   ],
   "source": [
    "PATH = 'C:\\Program Files (x86)\\chromedriver.exe'\n",
    "import os\n",
    "import zipfile\n",
    "\n",
    "from selenium import webdriver\n",
    "\n",
    "PROXY_HOST = '193.233.175.73'  # rotating proxy or host\n",
    "PROXY_PORT = 45785 # port\n",
    "PROXY_USER = 'Selburobaslo' # username\n",
    "PROXY_PASS = 'M9d5ZbQ' # password\n",
    "\n",
    "\n",
    "manifest_json = \"\"\"\n",
    "{\n",
    "    \"version\": \"1.0.0\",\n",
    "    \"manifest_version\": 2,\n",
    "    \"name\": \"Chrome Proxy\",\n",
    "    \"permissions\": [\n",
    "        \"proxy\",\n",
    "        \"tabs\",\n",
    "        \"unlimitedStorage\",\n",
    "        \"storage\",\n",
    "        \"<all_urls>\",\n",
    "        \"webRequest\",\n",
    "        \"webRequestBlocking\"\n",
    "    ],\n",
    "    \"background\": {\n",
    "        \"scripts\": [\"background.js\"]\n",
    "    },\n",
    "    \"minimum_chrome_version\":\"22.0.0\"\n",
    "}\n",
    "\"\"\"\n",
    "\n",
    "background_js = \"\"\"\n",
    "var config = {\n",
    "        mode: \"fixed_servers\",\n",
    "        rules: {\n",
    "        singleProxy: {\n",
    "            scheme: \"http\",\n",
    "            host: \"%s\",\n",
    "            port: parseInt(%s)\n",
    "        },\n",
    "        bypassList: [\"localhost\"]\n",
    "        }\n",
    "    };\n",
    "\n",
    "chrome.proxy.settings.set({value: config, scope: \"regular\"}, function() {});\n",
    "\n",
    "function callbackFn(details) {\n",
    "    return {\n",
    "        authCredentials: {\n",
    "            username: \"%s\",\n",
    "            password: \"%s\"\n",
    "        }\n",
    "    };\n",
    "}\n",
    "\n",
    "chrome.webRequest.onAuthRequired.addListener(\n",
    "            callbackFn,\n",
    "            {urls: [\"<all_urls>\"]},\n",
    "            ['blocking']\n",
    ");\n",
    "\"\"\" % (PROXY_HOST, PROXY_PORT, PROXY_USER, PROXY_PASS)\n",
    "\n",
    "\n",
    "def get_chromedriver(use_proxy=False, user_agent=None):\n",
    "    \n",
    "    chrome_options = webdriver.ChromeOptions()\n",
    "    if use_proxy:\n",
    "        pluginfile = 'proxy_auth_plugin.zip'\n",
    "\n",
    "        with zipfile.ZipFile(pluginfile, 'w') as zp:\n",
    "            zp.writestr(\"manifest.json\", manifest_json)\n",
    "            zp.writestr(\"background.js\", background_js)\n",
    "        chrome_options.add_extension(pluginfile)\n",
    "    if user_agent:\n",
    "        chrome_options.add_argument('--user-agent=%s' % user_agent)\n",
    "    driver = webdriver.Chrome(\n",
    "        PATH,\n",
    "        chrome_options=chrome_options)\n",
    "    return driver\n",
    "\n",
    "\n",
    "driver = get_chromedriver(use_proxy=True)\n"
   ]
  },
  {
   "cell_type": "code",
   "execution_count": 418,
   "metadata": {},
   "outputs": [],
   "source": [
    "driver.get('https://e-disclosure.ru/poisk-po-soobshheniyam')"
   ]
  },
  {
   "cell_type": "code",
   "execution_count": 419,
   "metadata": {},
   "outputs": [
    {
     "name": "stderr",
     "output_type": "stream",
     "text": [
      "C:\\Users\\555\\AppData\\Local\\Temp\\ipykernel_10472\\418188672.py:1: DeprecationWarning: find_element_by_* commands are deprecated. Please use find_element() instead\n",
      "  driver.find_element_by_id('selected_type').click()\n"
     ]
    }
   ],
   "source": [
    "driver.find_element_by_id('selected_type').click()"
   ]
  },
  {
   "cell_type": "code",
   "execution_count": 420,
   "metadata": {},
   "outputs": [
    {
     "name": "stderr",
     "output_type": "stream",
     "text": [
      "C:\\Users\\555\\AppData\\Local\\Temp\\ipykernel_10472\\493299331.py:1: DeprecationWarning: find_element_by_* commands are deprecated. Please use find_element() instead\n",
      "  bar = driver.find_element_by_name('eventTypeTerm')\n"
     ]
    }
   ],
   "source": [
    "bar = driver.find_element_by_name('eventTypeTerm')\n",
    "bar.send_keys('общих')\n",
    "bar.send_keys(Keys.ENTER)"
   ]
  },
  {
   "cell_type": "code",
   "execution_count": 421,
   "metadata": {},
   "outputs": [
    {
     "name": "stderr",
     "output_type": "stream",
     "text": [
      "C:\\Users\\555\\AppData\\Local\\Temp\\ipykernel_10472\\1945592855.py:1: DeprecationWarning: find_element_by_* commands are deprecated. Please use find_element() instead\n",
      "  box = driver.find_element_by_xpath(\"//input[@type='checkbox'][@value=101][not(@name)]\")\n"
     ]
    }
   ],
   "source": [
    "box = driver.find_element_by_xpath(\"//input[@type='checkbox'][@value=101][not(@name)]\")"
   ]
  },
  {
   "cell_type": "code",
   "execution_count": 422,
   "metadata": {},
   "outputs": [],
   "source": [
    "box.click()"
   ]
  },
  {
   "cell_type": "code",
   "execution_count": 423,
   "metadata": {},
   "outputs": [
    {
     "name": "stderr",
     "output_type": "stream",
     "text": [
      "C:\\Users\\555\\AppData\\Local\\Temp\\ipykernel_10472\\2502487516.py:1: DeprecationWarning: find_element_by_* commands are deprecated. Please use find_element() instead\n",
      "  driver.find_element_by_link_text('Подтвердить выбор').click()\n"
     ]
    }
   ],
   "source": [
    "driver.find_element_by_link_text('Подтвердить выбор').click()"
   ]
  },
  {
   "cell_type": "code",
   "execution_count": 424,
   "metadata": {},
   "outputs": [
    {
     "name": "stderr",
     "output_type": "stream",
     "text": [
      "C:\\Users\\555\\AppData\\Local\\Temp\\ipykernel_10472\\3930865691.py:1: DeprecationWarning: find_element_by_* commands are deprecated. Please use find_element() instead\n",
      "  driver.find_element_by_id('selected_period').click()\n"
     ]
    }
   ],
   "source": [
    "driver.find_element_by_id('selected_period').click()"
   ]
  },
  {
   "cell_type": "markdown",
   "metadata": {},
   "source": [
    "Так как извлекать пришлось по месяцам, вместо выбора конца 2021 года тут нужно руками выбрать нужный месяц на странице"
   ]
  },
  {
   "cell_type": "code",
   "execution_count": 79,
   "metadata": {},
   "outputs": [
    {
     "name": "stderr",
     "output_type": "stream",
     "text": [
      "C:\\Users\\555\\AppData\\Local\\Temp\\ipykernel_10472\\2228987184.py:1: DeprecationWarning: find_element_by_* commands are deprecated. Please use find_element() instead\n",
      "  start_box = driver.find_element_by_xpath(\"//input[@type='text'][@name='dateStart']\")\n",
      "C:\\Users\\555\\AppData\\Local\\Temp\\ipykernel_10472\\2228987184.py:2: DeprecationWarning: find_element_by_* commands are deprecated. Please use find_element() instead\n",
      "  end_box = driver.find_element_by_xpath(\"//input[@type='text'][@name='dateFinish']\")\n"
     ]
    }
   ],
   "source": [
    "#start_box = driver.find_element_by_xpath(\"//input[@type='text'][@name='dateStart']\")\n",
    "#end_box = driver.find_element_by_xpath(\"//input[@type='text'][@name='dateFinish']\")"
   ]
  },
  {
   "cell_type": "code",
   "execution_count": 15,
   "metadata": {},
   "outputs": [],
   "source": [
    "#start_box.click()"
   ]
  },
  {
   "cell_type": "code",
   "execution_count": 16,
   "metadata": {},
   "outputs": [],
   "source": [
    "#driver.find_element_by_xpath(\n",
    "   # \"//select[@class='ui-datepicker-year']/option[@value=2021]\").click()"
   ]
  },
  {
   "cell_type": "code",
   "execution_count": 17,
   "metadata": {},
   "outputs": [
    {
     "name": "stderr",
     "output_type": "stream",
     "text": [
      "C:\\Users\\555\\AppData\\Local\\Temp\\ipykernel_23064\\2221374905.py:1: DeprecationWarning: find_element_by_* commands are deprecated. Please use find_element() instead\n",
      "  driver.find_element_by_xpath(\n"
     ]
    }
   ],
   "source": [
    "#driver.find_element_by_xpath(\n",
    "    #\"//select[@class='ui-datepicker-month']/option[@value=0]\").click()"
   ]
  },
  {
   "cell_type": "code",
   "execution_count": 18,
   "metadata": {},
   "outputs": [
    {
     "name": "stderr",
     "output_type": "stream",
     "text": [
      "C:\\Users\\555\\AppData\\Local\\Temp\\ipykernel_23064\\2764720392.py:1: DeprecationWarning: find_element_by_* commands are deprecated. Please use find_element() instead\n",
      "  driver.find_element_by_link_text('1').click()\n"
     ]
    }
   ],
   "source": [
    "#driver.find_element_by_link_text('1').click()"
   ]
  },
  {
   "cell_type": "code",
   "execution_count": 20,
   "metadata": {},
   "outputs": [],
   "source": [
    "#end_box.click()\n",
    "#driver.find_element_by_xpath(\n",
    "    #\"//select[@class='ui-datepicker-year']/option[@value=2021]\").click()\n",
    "#driver.find_element_by_xpath(\n",
    "    #\"//select[@class='ui-datepicker-month']/option[@value=12]\").click()\n",
    "#driver.find_element_by_link_text('30').click()"
   ]
  },
  {
   "cell_type": "code",
   "execution_count": 425,
   "metadata": {},
   "outputs": [
    {
     "name": "stderr",
     "output_type": "stream",
     "text": [
      "C:\\Users\\555\\AppData\\Local\\Temp\\ipykernel_10472\\2502487516.py:1: DeprecationWarning: find_element_by_* commands are deprecated. Please use find_element() instead\n",
      "  driver.find_element_by_link_text('Подтвердить выбор').click()\n"
     ]
    }
   ],
   "source": [
    "driver.find_element_by_link_text('Подтвердить выбор').click()"
   ]
  },
  {
   "cell_type": "code",
   "execution_count": 427,
   "metadata": {},
   "outputs": [
    {
     "name": "stderr",
     "output_type": "stream",
     "text": [
      "C:\\Users\\555\\AppData\\Local\\Temp\\ipykernel_10472\\1483103201.py:1: DeprecationWarning: find_element_by_* commands are deprecated. Please use find_element() instead\n",
      "  driver.find_element_by_id('butt').click()\n"
     ]
    }
   ],
   "source": [
    "driver.find_element_by_id('butt').click()"
   ]
  },
  {
   "cell_type": "code",
   "execution_count": 428,
   "metadata": {},
   "outputs": [],
   "source": [
    "cur_window = driver.current_window_handle"
   ]
  },
  {
   "cell_type": "code",
   "execution_count": 429,
   "metadata": {},
   "outputs": [
    {
     "name": "stderr",
     "output_type": "stream",
     "text": [
      "C:\\Users\\555\\AppData\\Local\\Temp\\ipykernel_10472\\2830228165.py:1: DeprecationWarning: find_element_by_* commands are deprecated. Please use find_element() instead\n",
      "  driver.find_element_by_xpath(\"//select[@name='pageSize']/option[@value='2147483647']\").click()\n"
     ]
    }
   ],
   "source": [
    "driver.find_element_by_xpath(\"//select[@name='pageSize']/option[@value='2147483647']\").click()"
   ]
  },
  {
   "cell_type": "code",
   "execution_count": 430,
   "metadata": {},
   "outputs": [],
   "source": [
    "objects = driver.find_elements(By.XPATH, \"//a[@target='_blank'][@style]\")\n",
    "#print(objects)"
   ]
  },
  {
   "cell_type": "code",
   "execution_count": 431,
   "metadata": {},
   "outputs": [
    {
     "data": {
      "application/vnd.jupyter.widget-view+json": {
       "model_id": "e3b61dbec0bb4b01b22a6cfd41fba5b2",
       "version_major": 2,
       "version_minor": 0
      },
      "text/plain": [
       "  0%|          | 0/44 [00:00<?, ?it/s]"
      ]
     },
     "metadata": {},
     "output_type": "display_data"
    }
   ],
   "source": [
    "texts = []\n",
    "ids = []\n",
    "for i in tqdm(range(0, len(objects), 10)):\n",
    "#for i in tqdm(range(0, len(objects))):\n",
    "    for obj in objects[i-10: i]:\n",
    "    #for obj in objects:\n",
    "        obj.click()\n",
    "        time.sleep(1)\n",
    "    windows = driver.window_handles\n",
    "    windows.remove(cur_window)\n",
    "    for window in windows:\n",
    "        driver.switch_to.window(window)\n",
    "        \n",
    "        \n",
    "        for element in driver.find_elements(By.ID, \"cont_wrap\"):\n",
    "             if (len(element.text) < 32767):\n",
    "                for el in driver.find_elements(By.XPATH, \"//*[@id='content2']/div[4]/div[3]/span\"):\n",
    "                    ids.append(el.get_attribute(\"textContent\")) \n",
    "                texts.append(element.text)\n",
    "        time.sleep(0.5)\n",
    "        \n",
    "        driver.close()\n",
    "    driver.switch_to.window(cur_window)"
   ]
  },
  {
   "cell_type": "code",
   "execution_count": 432,
   "metadata": {},
   "outputs": [],
   "source": [
    "def get_unique(x):\n",
    "    unique = []\n",
    "    for i in x:\n",
    "        if i not in unique:\n",
    "            unique.append(i)\n",
    "    return unique\n",
    "\n",
    "texts = get_unique(texts)\n",
    "ids = get_unique(ids)"
   ]
  },
  {
   "cell_type": "code",
   "execution_count": 433,
   "metadata": {},
   "outputs": [
    {
     "name": "stdout",
     "output_type": "stream",
     "text": [
      "415\n",
      "415\n"
     ]
    }
   ],
   "source": [
    "\n",
    "\n",
    "print(len(texts))\n",
    "print(len(ids))"
   ]
  },
  {
   "cell_type": "code",
   "execution_count": 434,
   "metadata": {},
   "outputs": [],
   "source": [
    "df = pd.DataFrame(list(zip(texts, ids)), columns=['texts', 'ids'])"
   ]
  },
  {
   "cell_type": "markdown",
   "metadata": {},
   "source": [
    "december.csv cледует изменить на тот месяц, что вы сохраняете"
   ]
  },
  {
   "cell_type": "code",
   "execution_count": 435,
   "metadata": {},
   "outputs": [],
   "source": [
    "pd.DataFrame(df).to_csv('june_3.csv', index=False, encoding = 'cp1251', errors='ignore')"
   ]
  }
 ],
 "metadata": {
  "interpreter": {
   "hash": "5949f51078ce7f6379e21bf06d4dc021f637b16b326e8b8339cfe9356282a34e"
  },
  "kernelspec": {
   "display_name": "Python 3.8.3 64-bit",
   "language": "python",
   "name": "python3"
  },
  "language_info": {
   "codemirror_mode": {
    "name": "ipython",
    "version": 3
   },
   "file_extension": ".py",
   "mimetype": "text/x-python",
   "name": "python",
   "nbconvert_exporter": "python",
   "pygments_lexer": "ipython3",
   "version": "3.8.3"
  }
 },
 "nbformat": 4,
 "nbformat_minor": 2
}
